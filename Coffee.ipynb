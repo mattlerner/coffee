{
 "cells": [
  {
   "cell_type": "code",
   "execution_count": 466,
   "metadata": {},
   "outputs": [],
   "source": [
    "import pandas as pd\n",
    "import requests\n",
    "from selenium import webdriver\n",
    "from bs4 import BeautifulSoup\n",
    "import numpy as np\n",
    "import re\n",
    "from tabula import read_pdf # this is tabula-js, available from pip. you will need to have a JDK installed to use this-- I recommend a quick \"brew cask install java\" on macos\n",
    "import seaborn as sns\n",
    "import statsmodels.api as sm\n",
    "from datetime import datetime\n"
   ]
  },
  {
   "cell_type": "markdown",
   "metadata": {},
   "source": [
    "__Setup__"
   ]
  },
  {
   "cell_type": "code",
   "execution_count": 467,
   "metadata": {},
   "outputs": [],
   "source": [
    "# URLs from which PDFs will be scraped\n",
    "pdf_urls = [\"http://www.nairobicoffeeexchange.co.ke/index.php?option=com_phocadownload&view=file&id=163:per-month-per-grade-20142015&Itemid=148\",\"http://www.nairobicoffeeexchange.co.ke/index.php?option=com_phocadownload&view=file&id=759:per-month-per-grade-2015-16&Itemid=148\",\"http://www.nairobicoffeeexchange.co.ke/index.php?option=com_phocadownload&view=file&id=2111:per-month-per-grade-20162017&Itemid=148\",\"http://www.nairobicoffeeexchange.co.ke/index.php?option=com_phocadownload&view=file&id=2108:per-month-per-grade-20172018&Itemid=148\"]\n",
    "\n",
    "# path to this script. in this directory you should have the chrome webdriver - 'chromedriver'\n",
    "filepath = \"/users/matt/desktop/resume/specific resumes/rockefeller\"\n",
    "\n",
    "# the css id of the download button on the pages to be scraped\n",
    "download_button_id = \"pdlicensesubmit\"\n",
    "\n",
    "# this is the class of the pdf filename on each of the webpages\n",
    "filename_class = \"pd-document16\"\n",
    "\n",
    "# this is for use down in the reorganization section\n",
    "months = [\"January\",\"February\",\"March\",\"April\",\"May\",\"June\",\"July\",\"August\",\"September\",\"October\",\"November\",\"December\"]"
   ]
  },
  {
   "cell_type": "markdown",
   "metadata": {},
   "source": [
    "__Functions__"
   ]
  },
  {
   "cell_type": "code",
   "execution_count": 468,
   "metadata": {},
   "outputs": [],
   "source": [
    "# a web scraper class with self-explanatory methods. tailored to this use case.\n",
    "class Scraper(object):\n",
    "    def __init__(self):\n",
    "        self.chromeOptions = webdriver.ChromeOptions()\n",
    "        \n",
    "        self.prefs = prefs = {\"download.default_directory\" : filepath}\n",
    "        self.chromeOptions.add_experimental_option(\"prefs\",prefs)\n",
    "\n",
    "        #self.chromeOptions.add_argument(\"headless\") # this is commented out because by default selenium will not download with headless chrome. this can be changed but it's not pressing for our current use case.\n",
    "        #self.chromeOptions.add_argument(\"download.default_directory='{}'\".format(filepath))\n",
    "        \n",
    "        # be sure to place chromedriver in the same directory as this notebook\n",
    "        # download the appropriate version at http://chromedriver.chromium.org/downloads\n",
    "        self.browser = webdriver.Chrome(executable_path=\"{}/chromedriver\".format(filepath), chrome_options=self.chromeOptions)\n",
    "    \n",
    "    def go_to_page(self, url):\n",
    "        try:\n",
    "            self.browser.get(url)\n",
    "        except Exception as e:\n",
    "            print(\"Error getting page:{}\".format(e))\n",
    "            return\n",
    "        source = self.browser.page_source\n",
    "        return source\n",
    "    \n",
    "    def click_button(self, buttonid):\n",
    "        button = self.browser.find_element_by_id(buttonid)\n",
    "        button.click()\n",
    "        \n",
    "    def quit_browser(self):\n",
    "        self.browser.quit()\n",
    "\n",
    "# this function returns whatever text is inside an element of the specified class. it takes html in string format.\n",
    "def get_filename(source, class_):\n",
    "    soup = BeautifulSoup(source)\n",
    "    item = soup.find(class_=class_)\n",
    "    return item.text\n",
    "\n",
    "# a big function highly specialized for our use case, which takes PDFs\n",
    "# from nairobi coffee exchange and turns them into dataframes.\n",
    "# it's not pretty and can probably be slicked up.\n",
    "def pdf_to_dataframe(pdf_filename, months=months):\n",
    "    # this is from tabula-py\n",
    "    current_tables = read_pdf(pdf_filename, pages='all', pandas_options={\"names\":[\"extra\",\"grade\",\"bags_bought\",\"weight_bought\",\"min_price\",\"max_price\",\"dollar_value\",\"avg_price\"]}) # extracts all tables from document\n",
    "\n",
    "    # here we're creating a 'stringdate' column in which we have nans wherever extra is anything other than dates of format \"Month YYYY\"\n",
    "    current_tables['stringdate'] = current_tables['extra']\n",
    "    current_tables.loc[current_tables['stringdate'].str.contains('|'.join(months)) != True, 'stringdate'] = np.nan\n",
    "\n",
    "    # we carry forward those values as dates\n",
    "    current_tables['date'] = pd.to_datetime(current_tables['stringdate'].fillna(method='ffill'), format='%B %Y', errors='coerce')\n",
    "\n",
    "    # this is because of pdf-reading inconsistency. sometimes the module\n",
    "    # senses the appropriate columns, and sometimes it adds in extra ones.\n",
    "    # in the event it's right, the very first cell will be \"Date By\"\n",
    "    if (current_tables['extra'][0] != \"Date By\"):\n",
    "        # first we need to deal with the stuff on the first page, which reads in badly because of the titles\n",
    "        # I'm shifting columns over one by one just for the sake of clarity and readability\n",
    "        current_tables_withnan = current_tables[pd.isna(current_tables['avg_price']) & pd.notna(current_tables['max_price'])]\n",
    "        current_tables_withnan['avg_price'] = current_tables_withnan['max_price'].str.split(\" \", expand=True)[1]\n",
    "        current_tables_withnan['dollar_value'] = current_tables_withnan['max_price'].str.split(\" \", expand=True)[0]\n",
    "        current_tables_withnan['max_price'] = current_tables_withnan['min_price']\n",
    "        current_tables_withnan['min_price'] = current_tables_withnan['weight_bought']\n",
    "        current_tables_withnan['grade'] = current_tables_withnan['extra'].str.split(\" \", expand=True)[0]\n",
    "        current_tables_withnan = current_tables_withnan[3:]\n",
    "\n",
    "        # append the newly reorganized bits to the rest of the dataset\n",
    "        full_dataset = current_tables_withnan.append(current_tables[pd.notna(current_tables['avg_price'])]).dropna(subset=['grade'])\n",
    "    else:\n",
    "        full_dataset = current_tables[current_tables['extra'] != \"Date By\"][2:]\n",
    "\n",
    "    full_dataset = full_dataset[full_dataset['grade'] != \"Month\"] # removing monthly totals\n",
    "    full_dataset = full_dataset[full_dataset['bags_bought'] != \"Bought\"] # removing excess row\n",
    "\n",
    "    # make columns numeric\n",
    "    full_dataset['bags_bought'] = full_dataset['bags_bought'].str.replace(',','').astype(float)\n",
    "    full_dataset['weight_bought'] = full_dataset['weight_bought'].str.replace(',','').astype(float)\n",
    "    full_dataset['min_price'] = full_dataset['min_price'].str.replace(',','').astype(float)\n",
    "    full_dataset['max_price'] = full_dataset['max_price'].str.replace(',','').astype(float)\n",
    "    full_dataset['dollar_value'] = full_dataset['dollar_value'].str.replace(',','').astype(float)\n",
    "    full_dataset['avg_price'] = full_dataset['avg_price'].str.replace(',','').astype(float)\n",
    "\n",
    "    # get rid of extra column\n",
    "    del full_dataset['extra']\n",
    "    del full_dataset['stringdate']\n",
    "\n",
    "    return full_dataset"
   ]
  },
  {
   "cell_type": "markdown",
   "metadata": {},
   "source": [
    "__Fetch Data__"
   ]
  },
  {
   "cell_type": "code",
   "execution_count": 469,
   "metadata": {},
   "outputs": [
    {
     "name": "stderr",
     "output_type": "stream",
     "text": [
      "/usr/local/lib/python3.7/site-packages/ipykernel_launcher.py:14: DeprecationWarning: use options instead of chrome_options\n",
      "  \n",
      "/usr/local/lib/python3.7/site-packages/bs4/__init__.py:181: UserWarning: No parser was explicitly specified, so I'm using the best available HTML parser for this system (\"lxml\"). This usually isn't a problem, but if you run this code on another system, or in a different virtual environment, it may use a different parser and behave differently.\n",
      "\n",
      "The code that caused this warning is on line 193 of the file /usr/local/Cellar/python/3.7.2_1/Frameworks/Python.framework/Versions/3.7/lib/python3.7/runpy.py. To get rid of this warning, change code that looks like this:\n",
      "\n",
      " BeautifulSoup([your markup])\n",
      "\n",
      "to this:\n",
      "\n",
      " BeautifulSoup([your markup], \"lxml\")\n",
      "\n",
      "  markup_type=markup_type))\n",
      "/usr/local/lib/python3.7/site-packages/bs4/__init__.py:181: UserWarning: No parser was explicitly specified, so I'm using the best available HTML parser for this system (\"lxml\"). This usually isn't a problem, but if you run this code on another system, or in a different virtual environment, it may use a different parser and behave differently.\n",
      "\n",
      "The code that caused this warning is on line 193 of the file /usr/local/Cellar/python/3.7.2_1/Frameworks/Python.framework/Versions/3.7/lib/python3.7/runpy.py. To get rid of this warning, change code that looks like this:\n",
      "\n",
      " BeautifulSoup([your markup])\n",
      "\n",
      "to this:\n",
      "\n",
      " BeautifulSoup([your markup], \"lxml\")\n",
      "\n",
      "  markup_type=markup_type))\n",
      "/usr/local/lib/python3.7/site-packages/bs4/__init__.py:181: UserWarning: No parser was explicitly specified, so I'm using the best available HTML parser for this system (\"lxml\"). This usually isn't a problem, but if you run this code on another system, or in a different virtual environment, it may use a different parser and behave differently.\n",
      "\n",
      "The code that caused this warning is on line 193 of the file /usr/local/Cellar/python/3.7.2_1/Frameworks/Python.framework/Versions/3.7/lib/python3.7/runpy.py. To get rid of this warning, change code that looks like this:\n",
      "\n",
      " BeautifulSoup([your markup])\n",
      "\n",
      "to this:\n",
      "\n",
      " BeautifulSoup([your markup], \"lxml\")\n",
      "\n",
      "  markup_type=markup_type))\n",
      "/usr/local/lib/python3.7/site-packages/bs4/__init__.py:181: UserWarning: No parser was explicitly specified, so I'm using the best available HTML parser for this system (\"lxml\"). This usually isn't a problem, but if you run this code on another system, or in a different virtual environment, it may use a different parser and behave differently.\n",
      "\n",
      "The code that caused this warning is on line 193 of the file /usr/local/Cellar/python/3.7.2_1/Frameworks/Python.framework/Versions/3.7/lib/python3.7/runpy.py. To get rid of this warning, change code that looks like this:\n",
      "\n",
      " BeautifulSoup([your markup])\n",
      "\n",
      "to this:\n",
      "\n",
      " BeautifulSoup([your markup], \"lxml\")\n",
      "\n",
      "  markup_type=markup_type))\n",
      "/usr/local/lib/python3.7/site-packages/ipykernel_launcher.py:59: SettingWithCopyWarning: \n",
      "A value is trying to be set on a copy of a slice from a DataFrame.\n",
      "Try using .loc[row_indexer,col_indexer] = value instead\n",
      "\n",
      "See the caveats in the documentation: http://pandas.pydata.org/pandas-docs/stable/indexing.html#indexing-view-versus-copy\n",
      "/usr/local/lib/python3.7/site-packages/ipykernel_launcher.py:60: SettingWithCopyWarning: \n",
      "A value is trying to be set on a copy of a slice from a DataFrame.\n",
      "Try using .loc[row_indexer,col_indexer] = value instead\n",
      "\n",
      "See the caveats in the documentation: http://pandas.pydata.org/pandas-docs/stable/indexing.html#indexing-view-versus-copy\n",
      "/usr/local/lib/python3.7/site-packages/ipykernel_launcher.py:61: SettingWithCopyWarning: \n",
      "A value is trying to be set on a copy of a slice from a DataFrame.\n",
      "Try using .loc[row_indexer,col_indexer] = value instead\n",
      "\n",
      "See the caveats in the documentation: http://pandas.pydata.org/pandas-docs/stable/indexing.html#indexing-view-versus-copy\n",
      "/usr/local/lib/python3.7/site-packages/ipykernel_launcher.py:62: SettingWithCopyWarning: \n",
      "A value is trying to be set on a copy of a slice from a DataFrame.\n",
      "Try using .loc[row_indexer,col_indexer] = value instead\n",
      "\n",
      "See the caveats in the documentation: http://pandas.pydata.org/pandas-docs/stable/indexing.html#indexing-view-versus-copy\n",
      "/usr/local/lib/python3.7/site-packages/ipykernel_launcher.py:63: SettingWithCopyWarning: \n",
      "A value is trying to be set on a copy of a slice from a DataFrame.\n",
      "Try using .loc[row_indexer,col_indexer] = value instead\n",
      "\n",
      "See the caveats in the documentation: http://pandas.pydata.org/pandas-docs/stable/indexing.html#indexing-view-versus-copy\n",
      "/usr/local/lib/python3.7/site-packages/ipykernel_launcher.py:59: SettingWithCopyWarning: \n",
      "A value is trying to be set on a copy of a slice from a DataFrame.\n",
      "Try using .loc[row_indexer,col_indexer] = value instead\n",
      "\n",
      "See the caveats in the documentation: http://pandas.pydata.org/pandas-docs/stable/indexing.html#indexing-view-versus-copy\n",
      "/usr/local/lib/python3.7/site-packages/ipykernel_launcher.py:60: SettingWithCopyWarning: \n",
      "A value is trying to be set on a copy of a slice from a DataFrame.\n",
      "Try using .loc[row_indexer,col_indexer] = value instead\n",
      "\n",
      "See the caveats in the documentation: http://pandas.pydata.org/pandas-docs/stable/indexing.html#indexing-view-versus-copy\n",
      "/usr/local/lib/python3.7/site-packages/ipykernel_launcher.py:61: SettingWithCopyWarning: \n",
      "A value is trying to be set on a copy of a slice from a DataFrame.\n",
      "Try using .loc[row_indexer,col_indexer] = value instead\n",
      "\n",
      "See the caveats in the documentation: http://pandas.pydata.org/pandas-docs/stable/indexing.html#indexing-view-versus-copy\n",
      "/usr/local/lib/python3.7/site-packages/ipykernel_launcher.py:62: SettingWithCopyWarning: \n",
      "A value is trying to be set on a copy of a slice from a DataFrame.\n",
      "Try using .loc[row_indexer,col_indexer] = value instead\n",
      "\n",
      "See the caveats in the documentation: http://pandas.pydata.org/pandas-docs/stable/indexing.html#indexing-view-versus-copy\n",
      "/usr/local/lib/python3.7/site-packages/ipykernel_launcher.py:63: SettingWithCopyWarning: \n",
      "A value is trying to be set on a copy of a slice from a DataFrame.\n",
      "Try using .loc[row_indexer,col_indexer] = value instead\n",
      "\n",
      "See the caveats in the documentation: http://pandas.pydata.org/pandas-docs/stable/indexing.html#indexing-view-versus-copy\n"
     ]
    }
   ],
   "source": [
    "# scrape\n",
    "\n",
    "full_dataframe = pd.DataFrame()\n",
    "scrapey = Scraper()\n",
    "\n",
    "filenames = []\n",
    "\n",
    "# fetch pdfs in a loop, save filenames\n",
    "for pdf_url in pdf_urls:\n",
    "    source = scrapey.go_to_page(pdf_url)\n",
    "    scrapey.click_button(download_button_id)\n",
    "    last_downloaded_filename = get_filename(source,filename_class)\n",
    "    filenames.append(last_downloaded_filename)\n",
    "\n",
    "# fetch pdfs in a loop (locally), iteratively add to dataframe\n",
    "for filename in filenames:\n",
    "    last_dataframe = pdf_to_dataframe(filename)\n",
    "    full_dataframe = pd.concat([full_dataframe,last_dataframe])\n",
    "\n",
    "scrapey.quit_browser()\n"
   ]
  },
  {
   "cell_type": "code",
   "execution_count": 470,
   "metadata": {},
   "outputs": [],
   "source": [
    "full_dataframe.to_csv(\"all_data.csv\", encoding='utf-8', index=False)"
   ]
  },
  {
   "cell_type": "markdown",
   "metadata": {},
   "source": [
    "__Pare down for analysis__"
   ]
  },
  {
   "cell_type": "code",
   "execution_count": 471,
   "metadata": {},
   "outputs": [],
   "source": [
    "data_for_analysis = pd.read_csv(\"all_data.csv\")\n",
    "\n",
    "data_for_analysis = full_dataframe[((full_dataframe['grade'] == \"AA\") | (full_dataframe['grade'] == \"AB\") | (full_dataframe['grade'] == \"C\"))]\n",
    "data_for_analysis = data_for_analysis[['grade','avg_price','date']]"
   ]
  },
  {
   "cell_type": "code",
   "execution_count": 472,
   "metadata": {},
   "outputs": [
    {
     "data": {
      "text/html": [
       "<div>\n",
       "<style scoped>\n",
       "    .dataframe tbody tr th:only-of-type {\n",
       "        vertical-align: middle;\n",
       "    }\n",
       "\n",
       "    .dataframe tbody tr th {\n",
       "        vertical-align: top;\n",
       "    }\n",
       "\n",
       "    .dataframe thead th {\n",
       "        text-align: right;\n",
       "    }\n",
       "</style>\n",
       "<table border=\"1\" class=\"dataframe\">\n",
       "  <thead>\n",
       "    <tr style=\"text-align: right;\">\n",
       "      <th></th>\n",
       "      <th>grade</th>\n",
       "      <th>avg_price</th>\n",
       "      <th>date</th>\n",
       "    </tr>\n",
       "  </thead>\n",
       "  <tbody>\n",
       "    <tr>\n",
       "      <th>4</th>\n",
       "      <td>AA</td>\n",
       "      <td>310.71</td>\n",
       "      <td>2014-10-01</td>\n",
       "    </tr>\n",
       "    <tr>\n",
       "      <th>5</th>\n",
       "      <td>AB</td>\n",
       "      <td>254.42</td>\n",
       "      <td>2014-10-01</td>\n",
       "    </tr>\n",
       "    <tr>\n",
       "      <th>6</th>\n",
       "      <td>C</td>\n",
       "      <td>232.12</td>\n",
       "      <td>2014-10-01</td>\n",
       "    </tr>\n",
       "    <tr>\n",
       "      <th>20</th>\n",
       "      <td>AA</td>\n",
       "      <td>300.48</td>\n",
       "      <td>2014-11-01</td>\n",
       "    </tr>\n",
       "    <tr>\n",
       "      <th>21</th>\n",
       "      <td>AB</td>\n",
       "      <td>251.45</td>\n",
       "      <td>2014-11-01</td>\n",
       "    </tr>\n",
       "  </tbody>\n",
       "</table>\n",
       "</div>"
      ],
      "text/plain": [
       "   grade  avg_price       date\n",
       "4     AA     310.71 2014-10-01\n",
       "5     AB     254.42 2014-10-01\n",
       "6      C     232.12 2014-10-01\n",
       "20    AA     300.48 2014-11-01\n",
       "21    AB     251.45 2014-11-01"
      ]
     },
     "execution_count": 472,
     "metadata": {},
     "output_type": "execute_result"
    }
   ],
   "source": [
    "data_for_analysis.head()"
   ]
  },
  {
   "cell_type": "markdown",
   "metadata": {},
   "source": [
    "__Preliminary Analysis__"
   ]
  },
  {
   "cell_type": "code",
   "execution_count": 473,
   "metadata": {},
   "outputs": [
    {
     "data": {
      "text/plain": [
       "<matplotlib.axes._subplots.AxesSubplot at 0x1337c35c0>"
      ]
     },
     "execution_count": 473,
     "metadata": {},
     "output_type": "execute_result"
    },
    {
     "data": {
      "image/png": "[encoded data removed]",
      "text/plain": [
       "<Figure size 432x288 with 1 Axes>"
      ]
     },
     "metadata": {
      "needs_background": "light"
     },
     "output_type": "display_data"
    }
   ],
   "source": [
    "sns.lineplot(x=\"date\", y=\"avg_price\", hue=\"grade\", data=data_for_analysis)\n",
    "\n",
    "# there's still some missing data here but these look *extremely* correlated.\n",
    "# seems like maybe what we should do is fit two models: one to forecast\n",
    "# one grade of coffee into the future, and one correlating that grade\n",
    "# with the two other grades, and then extrapolating based on that\n",
    "\n",
    "# implicit assumption: stationarity of the distribution dictating this relationship"
   ]
  },
  {
   "cell_type": "code",
   "execution_count": 474,
   "metadata": {},
   "outputs": [],
   "source": [
    "# reshape wide so we have only one row for each point in time-- that'll make it easier to see missing data etc.\n",
    "data_wide = data_for_analysis.pivot_table(values=['avg_price'], index='date', columns='grade', dropna=False).reset_index()\n",
    "data_wide.columns = data_wide.columns.to_series().str.join('_') # flatten columns\n",
    "\n",
    "# we're missing June 2015, June 2017 and June 2018\n",
    "\n",
    "# interpolate missing values. since there's only three, we add them by hand\n",
    "new_obs1 = {\"date_\":datetime.strptime(\"2015-06-1\", \"%Y-%m-%d\"),\"avg_price_AA\":np.nan,\"avg_price_AB\":np.nan,\"avg_price_C\":np.nan}\n",
    "new_obs2 = {\"date_\":datetime.strptime(\"2017-06-1\", \"%Y-%m-%d\"),\"avg_price_AA\":np.nan,\"avg_price_AB\":np.nan,\"avg_price_C\":np.nan}\n",
    "new_obs3 = {\"date_\":datetime.strptime(\"2018-06-1\", \"%Y-%m-%d\"),\"avg_price_AA\":np.nan,\"avg_price_AB\":np.nan,\"avg_price_C\":np.nan}\n",
    "\n",
    "# is this the best strategy? it should work well enough for now.\n",
    "data_wide = data_wide.append([new_obs1,new_obs2,new_obs3], ignore_index=True).sort_values(by='date_')\n",
    "data_wide['avg_price_AA'] = data_wide['avg_price_AA'].interpolate(method='linear')\n",
    "data_wide['avg_price_AB'] = data_wide['avg_price_AB'].interpolate(method='linear')\n",
    "data_wide['avg_price_C'] = data_wide['avg_price_C'].interpolate(method='linear')\n",
    "\n",
    "# using OLS to fit prices AA and AC to AB.\n",
    "model_AB_AA = sm.OLS(data_wide['avg_price_AA'],data_wide['avg_price_AB']).fit()\n",
    "model_AB_C = sm.OLS(data_wide['avg_price_C'],data_wide['avg_price_AB']).fit()"
   ]
  },
  {
   "cell_type": "code",
   "execution_count": 475,
   "metadata": {},
   "outputs": [
    {
     "data": {
      "text/html": [
       "<table class=\"simpletable\">\n",
       "<caption>OLS Regression Results</caption>\n",
       "<tr>\n",
       "  <th>Dep. Variable:</th>      <td>avg_price_AA</td>   <th>  R-squared:         </th> <td>   0.988</td>\n",
       "</tr>\n",
       "<tr>\n",
       "  <th>Model:</th>                   <td>OLS</td>       <th>  Adj. R-squared:    </th> <td>   0.988</td>\n",
       "</tr>\n",
       "<tr>\n",
       "  <th>Method:</th>             <td>Least Squares</td>  <th>  F-statistic:       </th> <td>   4005.</td>\n",
       "</tr>\n",
       "<tr>\n",
       "  <th>Date:</th>             <td>Mon, 25 Mar 2019</td> <th>  Prob (F-statistic):</th> <td>3.80e-47</td>\n",
       "</tr>\n",
       "<tr>\n",
       "  <th>Time:</th>                 <td>12:36:55</td>     <th>  Log-Likelihood:    </th> <td> -233.71</td>\n",
       "</tr>\n",
       "<tr>\n",
       "  <th>No. Observations:</th>      <td>    48</td>      <th>  AIC:               </th> <td>   469.4</td>\n",
       "</tr>\n",
       "<tr>\n",
       "  <th>Df Residuals:</th>          <td>    47</td>      <th>  BIC:               </th> <td>   471.3</td>\n",
       "</tr>\n",
       "<tr>\n",
       "  <th>Df Model:</th>              <td>     1</td>      <th>                     </th>     <td> </td>   \n",
       "</tr>\n",
       "<tr>\n",
       "  <th>Covariance Type:</th>      <td>nonrobust</td>    <th>                     </th>     <td> </td>   \n",
       "</tr>\n",
       "</table>\n",
       "<table class=\"simpletable\">\n",
       "<tr>\n",
       "        <td></td>          <th>coef</th>     <th>std err</th>      <th>t</th>      <th>P>|t|</th>  <th>[0.025</th>    <th>0.975]</th>  \n",
       "</tr>\n",
       "<tr>\n",
       "  <th>avg_price_AB</th> <td>    1.2227</td> <td>    0.019</td> <td>   63.285</td> <td> 0.000</td> <td>    1.184</td> <td>    1.262</td>\n",
       "</tr>\n",
       "</table>\n",
       "<table class=\"simpletable\">\n",
       "<tr>\n",
       "  <th>Omnibus:</th>       <td> 5.170</td> <th>  Durbin-Watson:     </th> <td>   0.324</td>\n",
       "</tr>\n",
       "<tr>\n",
       "  <th>Prob(Omnibus):</th> <td> 0.075</td> <th>  Jarque-Bera (JB):  </th> <td>   4.440</td>\n",
       "</tr>\n",
       "<tr>\n",
       "  <th>Skew:</th>          <td> 0.741</td> <th>  Prob(JB):          </th> <td>   0.109</td>\n",
       "</tr>\n",
       "<tr>\n",
       "  <th>Kurtosis:</th>      <td> 3.162</td> <th>  Cond. No.          </th> <td>    1.00</td>\n",
       "</tr>\n",
       "</table><br/><br/>Warnings:<br/>[1] Standard Errors assume that the covariance matrix of the errors is correctly specified."
      ],
      "text/plain": [
       "<class 'statsmodels.iolib.summary.Summary'>\n",
       "\"\"\"\n",
       "                            OLS Regression Results                            \n",
       "==============================================================================\n",
       "Dep. Variable:           avg_price_AA   R-squared:                       0.988\n",
       "Model:                            OLS   Adj. R-squared:                  0.988\n",
       "Method:                 Least Squares   F-statistic:                     4005.\n",
       "Date:                Mon, 25 Mar 2019   Prob (F-statistic):           3.80e-47\n",
       "Time:                        12:36:55   Log-Likelihood:                -233.71\n",
       "No. Observations:                  48   AIC:                             469.4\n",
       "Df Residuals:                      47   BIC:                             471.3\n",
       "Df Model:                           1                                         \n",
       "Covariance Type:            nonrobust                                         \n",
       "================================================================================\n",
       "                   coef    std err          t      P>|t|      [0.025      0.975]\n",
       "--------------------------------------------------------------------------------\n",
       "avg_price_AB     1.2227      0.019     63.285      0.000       1.184       1.262\n",
       "==============================================================================\n",
       "Omnibus:                        5.170   Durbin-Watson:                   0.324\n",
       "Prob(Omnibus):                  0.075   Jarque-Bera (JB):                4.440\n",
       "Skew:                           0.741   Prob(JB):                        0.109\n",
       "Kurtosis:                       3.162   Cond. No.                         1.00\n",
       "==============================================================================\n",
       "\n",
       "Warnings:\n",
       "[1] Standard Errors assume that the covariance matrix of the errors is correctly specified.\n",
       "\"\"\""
      ]
     },
     "execution_count": 475,
     "metadata": {},
     "output_type": "execute_result"
    }
   ],
   "source": [
    "model_AB_AA.summary()"
   ]
  },
  {
   "cell_type": "code",
   "execution_count": 476,
   "metadata": {},
   "outputs": [
    {
     "data": {
      "text/html": [
       "<table class=\"simpletable\">\n",
       "<caption>OLS Regression Results</caption>\n",
       "<tr>\n",
       "  <th>Dep. Variable:</th>       <td>avg_price_C</td>   <th>  R-squared:         </th> <td>   0.993</td>\n",
       "</tr>\n",
       "<tr>\n",
       "  <th>Model:</th>                   <td>OLS</td>       <th>  Adj. R-squared:    </th> <td>   0.993</td>\n",
       "</tr>\n",
       "<tr>\n",
       "  <th>Method:</th>             <td>Least Squares</td>  <th>  F-statistic:       </th> <td>   6585.</td>\n",
       "</tr>\n",
       "<tr>\n",
       "  <th>Date:</th>             <td>Mon, 25 Mar 2019</td> <th>  Prob (F-statistic):</th> <td>3.55e-52</td>\n",
       "</tr>\n",
       "<tr>\n",
       "  <th>Time:</th>                 <td>12:36:55</td>     <th>  Log-Likelihood:    </th> <td> -201.65</td>\n",
       "</tr>\n",
       "<tr>\n",
       "  <th>No. Observations:</th>      <td>    48</td>      <th>  AIC:               </th> <td>   405.3</td>\n",
       "</tr>\n",
       "<tr>\n",
       "  <th>Df Residuals:</th>          <td>    47</td>      <th>  BIC:               </th> <td>   407.2</td>\n",
       "</tr>\n",
       "<tr>\n",
       "  <th>Df Model:</th>              <td>     1</td>      <th>                     </th>     <td> </td>   \n",
       "</tr>\n",
       "<tr>\n",
       "  <th>Covariance Type:</th>      <td>nonrobust</td>    <th>                     </th>     <td> </td>   \n",
       "</tr>\n",
       "</table>\n",
       "<table class=\"simpletable\">\n",
       "<tr>\n",
       "        <td></td>          <th>coef</th>     <th>std err</th>      <th>t</th>      <th>P>|t|</th>  <th>[0.025</th>    <th>0.975]</th>  \n",
       "</tr>\n",
       "<tr>\n",
       "  <th>avg_price_AB</th> <td>    0.8039</td> <td>    0.010</td> <td>   81.150</td> <td> 0.000</td> <td>    0.784</td> <td>    0.824</td>\n",
       "</tr>\n",
       "</table>\n",
       "<table class=\"simpletable\">\n",
       "<tr>\n",
       "  <th>Omnibus:</th>       <td> 1.622</td> <th>  Durbin-Watson:     </th> <td>   0.426</td>\n",
       "</tr>\n",
       "<tr>\n",
       "  <th>Prob(Omnibus):</th> <td> 0.444</td> <th>  Jarque-Bera (JB):  </th> <td>   1.163</td>\n",
       "</tr>\n",
       "<tr>\n",
       "  <th>Skew:</th>          <td>-0.096</td> <th>  Prob(JB):          </th> <td>   0.559</td>\n",
       "</tr>\n",
       "<tr>\n",
       "  <th>Kurtosis:</th>      <td> 2.262</td> <th>  Cond. No.          </th> <td>    1.00</td>\n",
       "</tr>\n",
       "</table><br/><br/>Warnings:<br/>[1] Standard Errors assume that the covariance matrix of the errors is correctly specified."
      ],
      "text/plain": [
       "<class 'statsmodels.iolib.summary.Summary'>\n",
       "\"\"\"\n",
       "                            OLS Regression Results                            \n",
       "==============================================================================\n",
       "Dep. Variable:            avg_price_C   R-squared:                       0.993\n",
       "Model:                            OLS   Adj. R-squared:                  0.993\n",
       "Method:                 Least Squares   F-statistic:                     6585.\n",
       "Date:                Mon, 25 Mar 2019   Prob (F-statistic):           3.55e-52\n",
       "Time:                        12:36:55   Log-Likelihood:                -201.65\n",
       "No. Observations:                  48   AIC:                             405.3\n",
       "Df Residuals:                      47   BIC:                             407.2\n",
       "Df Model:                           1                                         \n",
       "Covariance Type:            nonrobust                                         \n",
       "================================================================================\n",
       "                   coef    std err          t      P>|t|      [0.025      0.975]\n",
       "--------------------------------------------------------------------------------\n",
       "avg_price_AB     0.8039      0.010     81.150      0.000       0.784       0.824\n",
       "==============================================================================\n",
       "Omnibus:                        1.622   Durbin-Watson:                   0.426\n",
       "Prob(Omnibus):                  0.444   Jarque-Bera (JB):                1.163\n",
       "Skew:                          -0.096   Prob(JB):                        0.559\n",
       "Kurtosis:                       2.262   Cond. No.                         1.00\n",
       "==============================================================================\n",
       "\n",
       "Warnings:\n",
       "[1] Standard Errors assume that the covariance matrix of the errors is correctly specified.\n",
       "\"\"\""
      ]
     },
     "execution_count": 476,
     "metadata": {},
     "output_type": "execute_result"
    }
   ],
   "source": [
    "model_AB_C.summary()"
   ]
  },
  {
   "cell_type": "code",
   "execution_count": 477,
   "metadata": {},
   "outputs": [],
   "source": [
    "# OK, it looks like our three prices are closely enough correlated that we can just forecast AB for the present use case\n",
    "# then we'll predict the values of the other two grades after our forecast"
   ]
  },
  {
   "cell_type": "markdown",
   "metadata": {},
   "source": [
    "__SARIMA__"
   ]
  },
  {
   "cell_type": "code",
   "execution_count": 478,
   "metadata": {},
   "outputs": [
    {
     "name": "stderr",
     "output_type": "stream",
     "text": [
      "/usr/local/lib/python3.7/site-packages/statsmodels/tsa/base/tsa_model.py:221: ValueWarning: An unsupported index was provided and will be ignored when e.g. forecasting.\n",
      "  ' ignored when e.g. forecasting.', ValueWarning)\n"
     ]
    },
    {
     "data": {
      "text/html": [
       "<table class=\"simpletable\">\n",
       "<caption>Statespace Model Results</caption>\n",
       "<tr>\n",
       "  <th>Dep. Variable:</th>            <td>avg_price_AB</td>          <th>  No. Observations:  </th>    <td>48</td>   \n",
       "</tr>\n",
       "<tr>\n",
       "  <th>Model:</th>           <td>SARIMAX(1, 0, 1)x(1, 1, 0, 12)</td> <th>  Log Likelihood     </th> <td>-159.948</td>\n",
       "</tr>\n",
       "<tr>\n",
       "  <th>Date:</th>                   <td>Mon, 25 Mar 2019</td>        <th>  AIC                </th>  <td>329.896</td>\n",
       "</tr>\n",
       "<tr>\n",
       "  <th>Time:</th>                       <td>12:36:55</td>            <th>  BIC                </th>  <td>337.814</td>\n",
       "</tr>\n",
       "<tr>\n",
       "  <th>Sample:</th>                         <td>0</td>               <th>  HQIC               </th>  <td>332.660</td>\n",
       "</tr>\n",
       "<tr>\n",
       "  <th></th>                              <td> - 48</td>             <th>                     </th>     <td> </td>   \n",
       "</tr>\n",
       "<tr>\n",
       "  <th>Covariance Type:</th>               <td>opg</td>              <th>                     </th>     <td> </td>   \n",
       "</tr>\n",
       "</table>\n",
       "<table class=\"simpletable\">\n",
       "<tr>\n",
       "      <td></td>         <th>coef</th>     <th>std err</th>      <th>z</th>      <th>P>|z|</th>  <th>[0.025</th>    <th>0.975]</th>  \n",
       "</tr>\n",
       "<tr>\n",
       "  <th>intercept</th> <td>   -1.0349</td> <td>    4.377</td> <td>   -0.236</td> <td> 0.813</td> <td>   -9.614</td> <td>    7.544</td>\n",
       "</tr>\n",
       "<tr>\n",
       "  <th>ar.L1</th>     <td>    0.7479</td> <td>    0.193</td> <td>    3.866</td> <td> 0.000</td> <td>    0.369</td> <td>    1.127</td>\n",
       "</tr>\n",
       "<tr>\n",
       "  <th>ma.L1</th>     <td>    0.2299</td> <td>    0.231</td> <td>    0.994</td> <td> 0.320</td> <td>   -0.223</td> <td>    0.683</td>\n",
       "</tr>\n",
       "<tr>\n",
       "  <th>ar.S.L12</th>  <td>   -0.3698</td> <td>    0.281</td> <td>   -1.314</td> <td> 0.189</td> <td>   -0.921</td> <td>    0.182</td>\n",
       "</tr>\n",
       "<tr>\n",
       "  <th>sigma2</th>    <td>  389.7798</td> <td>  125.710</td> <td>    3.101</td> <td> 0.002</td> <td>  143.393</td> <td>  636.167</td>\n",
       "</tr>\n",
       "</table>\n",
       "<table class=\"simpletable\">\n",
       "<tr>\n",
       "  <th>Ljung-Box (Q):</th>          <td>37.16</td> <th>  Jarque-Bera (JB):  </th> <td>0.58</td>\n",
       "</tr>\n",
       "<tr>\n",
       "  <th>Prob(Q):</th>                <td>0.37</td>  <th>  Prob(JB):          </th> <td>0.75</td>\n",
       "</tr>\n",
       "<tr>\n",
       "  <th>Heteroskedasticity (H):</th> <td>1.27</td>  <th>  Skew:              </th> <td>0.27</td>\n",
       "</tr>\n",
       "<tr>\n",
       "  <th>Prob(H) (two-sided):</th>    <td>0.69</td>  <th>  Kurtosis:          </th> <td>2.70</td>\n",
       "</tr>\n",
       "</table><br/><br/>Warnings:<br/>[1] Covariance matrix calculated using the outer product of gradients (complex-step)."
      ],
      "text/plain": [
       "<class 'statsmodels.iolib.summary.Summary'>\n",
       "\"\"\"\n",
       "                                 Statespace Model Results                                 \n",
       "==========================================================================================\n",
       "Dep. Variable:                       avg_price_AB   No. Observations:                   48\n",
       "Model:             SARIMAX(1, 0, 1)x(1, 1, 0, 12)   Log Likelihood                -159.948\n",
       "Date:                            Mon, 25 Mar 2019   AIC                            329.896\n",
       "Time:                                    12:36:55   BIC                            337.814\n",
       "Sample:                                         0   HQIC                           332.660\n",
       "                                             - 48                                         \n",
       "Covariance Type:                              opg                                         \n",
       "==============================================================================\n",
       "                 coef    std err          z      P>|z|      [0.025      0.975]\n",
       "------------------------------------------------------------------------------\n",
       "intercept     -1.0349      4.377     -0.236      0.813      -9.614       7.544\n",
       "ar.L1          0.7479      0.193      3.866      0.000       0.369       1.127\n",
       "ma.L1          0.2299      0.231      0.994      0.320      -0.223       0.683\n",
       "ar.S.L12      -0.3698      0.281     -1.314      0.189      -0.921       0.182\n",
       "sigma2       389.7798    125.710      3.101      0.002     143.393     636.167\n",
       "===================================================================================\n",
       "Ljung-Box (Q):                       37.16   Jarque-Bera (JB):                 0.58\n",
       "Prob(Q):                              0.37   Prob(JB):                         0.75\n",
       "Heteroskedasticity (H):               1.27   Skew:                             0.27\n",
       "Prob(H) (two-sided):                  0.69   Kurtosis:                         2.70\n",
       "===================================================================================\n",
       "\n",
       "Warnings:\n",
       "[1] Covariance matrix calculated using the outer product of gradients (complex-step).\n",
       "\"\"\""
      ]
     },
     "execution_count": 478,
     "metadata": {},
     "output_type": "execute_result"
    }
   ],
   "source": [
    "# Looking at the plot of the data (and just thinking about coffee prices) there's obvious seasonality\n",
    "# There's also nonstationarity-- a slight downward trend in the data. So we give SARIMA a shot here.\n",
    "# Obviously this poses problems for my choice to model the relationship between grades via simple OLS\n",
    "# but with finite resources I think this approach should work just fine\n",
    "\n",
    "# a more robust model would take greater advantage of the tools available for fitting, describing, etc. (grid search, for example)\n",
    "# but in this case, especially given time constraints, it seemed to me that a commonsense understanding of the data\n",
    "# was enough for a serviceable model. I think it looks pretty good!\n",
    "\n",
    "fit_sarima = sm.tsa.statespace.SARIMAX(endog=data_wide['avg_price_AB'], order=(1,0,1), seasonal_order=(1,1,0,12), trend='c', enforce_invertibility=False).fit()\n",
    "\n",
    "fit_sarima.summary()\n"
   ]
  },
  {
   "cell_type": "code",
   "execution_count": 479,
   "metadata": {},
   "outputs": [
    {
     "name": "stderr",
     "output_type": "stream",
     "text": [
      "/usr/local/lib/python3.7/site-packages/statsmodels/tsa/base/tsa_model.py:531: ValueWarning: No supported index is available. Prediction results will be given with an integer index beginning at `start`.\n",
      "  ValueWarning)\n",
      "/usr/local/lib/python3.7/site-packages/pandas/core/frame.py:6701: FutureWarning: Sorting because non-concatenation axis is not aligned. A future version\n",
      "of pandas will change to not sort by default.\n",
      "\n",
      "To accept the future behavior, pass 'sort=False'.\n",
      "\n",
      "To retain the current behavior and silence the warning, pass 'sort=True'.\n",
      "\n",
      "  sort=sort)\n"
     ]
    },
    {
     "data": {
      "text/plain": [
       "<matplotlib.lines.Line2D at 0x132116d68>"
      ]
     },
     "execution_count": 479,
     "metadata": {},
     "output_type": "execute_result"
    },
    {
     "data": {
      "image/png": "[encoded data removed]",
      "text/plain": [
       "<Figure size 720x576 with 1 Axes>"
      ]
     },
     "metadata": {
      "needs_background": "light"
     },
     "output_type": "display_data"
    }
   ],
   "source": [
    "# predict future datapoints, combine with original data\n",
    "\n",
    "# forecast\n",
    "future_forecast = fit_sarima.forecast(steps=12)\n",
    "future_forecast_frame = pd.DataFrame({\"date_\":pd.date_range(start='2018-10-01', periods=12, freq='MS'),\"avg_price_AB\":future_forecast}).sort_values('date_')\n",
    "\n",
    "# predict AA and C\n",
    "future_forecast_frame['avg_price_AA'] = model_AB_AA.predict(future_forecast_frame['avg_price_AB'])\n",
    "future_forecast_frame['avg_price_C'] = model_AB_C.predict(future_forecast_frame['avg_price_AB'])\n",
    "\n",
    "# combine\n",
    "combined_data = data_wide.append(future_forecast_frame)\n",
    "combined_data\n",
    "\n",
    "# melt for plotting ease\n",
    "combined_data_melted = pd.melt(combined_data, id_vars=['date_'], value_name=\"price\")\n",
    "\n",
    "# plot\n",
    "fig, ax = plt.subplots(figsize=(10,8))\n",
    "sns.lineplot(x=\"date_\", y=\"price\", hue=\"variable\", data=combined_data_melted, legend='brief').set_title(\"Past and forecast future coffee prices\\n(Time beyond red line is forecast)\")\n",
    "plt.axvline('2018-10-01', color='red')\n",
    "\n"
   ]
  },
  {
   "cell_type": "markdown",
   "metadata": {},
   "source": [
    "__Basic Descriptive Stats for Writeup__"
   ]
  },
  {
   "cell_type": "code",
   "execution_count": 480,
   "metadata": {},
   "outputs": [
    {
     "data": {
      "text/plain": [
       "avg_price_AB    219.690720\n",
       "avg_price_AA    268.619134\n",
       "avg_price_C     176.619111\n",
       "dtype: float64"
      ]
     },
     "execution_count": 480,
     "metadata": {},
     "output_type": "execute_result"
    }
   ],
   "source": [
    "# mean\n",
    "future_forecast_frame.aggregate(np.mean)"
   ]
  },
  {
   "cell_type": "code",
   "execution_count": 481,
   "metadata": {},
   "outputs": [
    {
     "data": {
      "text/plain": [
       "date_           2019-09-01 00:00:00\n",
       "avg_price_AB                282.417\n",
       "avg_price_AA                345.316\n",
       "avg_price_C                 227.048\n",
       "dtype: object"
      ]
     },
     "execution_count": 481,
     "metadata": {},
     "output_type": "execute_result"
    }
   ],
   "source": [
    "# max\n",
    "future_forecast_frame.aggregate(np.max)"
   ]
  },
  {
   "cell_type": "code",
   "execution_count": 482,
   "metadata": {},
   "outputs": [
    {
     "data": {
      "text/plain": [
       "date_           2018-10-01 00:00:00\n",
       "avg_price_AB                179.882\n",
       "avg_price_AA                219.945\n",
       "avg_price_C                 144.615\n",
       "dtype: object"
      ]
     },
     "execution_count": 482,
     "metadata": {},
     "output_type": "execute_result"
    }
   ],
   "source": [
    "# min\n",
    "future_forecast_frame.aggregate(np.min)"
   ]
  },
  {
   "cell_type": "code",
   "execution_count": 484,
   "metadata": {},
   "outputs": [
    {
     "data": {
      "text/plain": [
       "avg_price_AB    28.397681\n",
       "avg_price_AA    34.722271\n",
       "avg_price_C     22.830155\n",
       "dtype: float64"
      ]
     },
     "execution_count": 484,
     "metadata": {},
     "output_type": "execute_result"
    }
   ],
   "source": [
    "# std\n",
    "future_forecast_frame.aggregate(np.std)"
   ]
  },
  {
   "cell_type": "code",
   "execution_count": null,
   "metadata": {},
   "outputs": [],
   "source": []
  }
 ],
 "metadata": {
  "kernelspec": {
   "display_name": "Python 3",
   "language": "python",
   "name": "python3"
  },
  "language_info": {
   "codemirror_mode": {
    "name": "ipython",
    "version": 3
   },
   "file_extension": ".py",
   "mimetype": "text/x-python",
   "name": "python",
   "nbconvert_exporter": "python",
   "pygments_lexer": "ipython3",
   "version": "3.7.2"
  }
 },
 "nbformat": 4,
 "nbformat_minor": 2
}
